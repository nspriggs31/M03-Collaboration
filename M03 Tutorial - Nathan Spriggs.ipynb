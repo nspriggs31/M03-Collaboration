{
 "cells": [
  {
   "cell_type": "markdown",
   "id": "e60f4edb-3ebd-4c00-a141-b63defb4e3d4",
   "metadata": {},
   "source": [
    "Classes and Objects"
   ]
  },
  {
   "cell_type": "code",
   "execution_count": 1,
   "id": "41f81b0d-3087-4bf3-95d0-cb29c31303ba",
   "metadata": {},
   "outputs": [
    {
     "name": "stdout",
     "output_type": "stream",
     "text": [
      "mammal\n",
      "I'm a mammal\n",
      "I'm a dog\n"
     ]
    }
   ],
   "source": [
    "# Python3 program to\n",
    "# demonstrate instantiating\n",
    "# a class\n",
    "class Dog:\n",
    "\n",
    "    # A simple class\n",
    "    # attribute\n",
    "    attr1 = \"mammal\"\n",
    "    attr2 = \"dog\"\n",
    "\n",
    "    # A sample method\n",
    "    def fun(self):\n",
    "        print(\"I'm a\", self.attr1)\n",
    "        print(\"I'm a\", self.attr2)\n",
    "\n",
    "\n",
    "# Driver code\n",
    "# Object instantiation\n",
    "Rodger = Dog()\n",
    "\n",
    "# Accessing class attributes\n",
    "# and method through objects\n",
    "print(Rodger.attr1)\n",
    "Rodger.fun()"
   ]
  },
  {
   "cell_type": "code",
   "execution_count": 2,
   "id": "9034e3c8-5244-46a2-b805-b601bb7e2729",
   "metadata": {},
   "outputs": [
    {
     "name": "stdout",
     "output_type": "stream",
     "text": [
      "Hello my name is John and I work in GeeksForGeeks.\n"
     ]
    }
   ],
   "source": [
    "class GFG:\n",
    "    def __init__(self, name, company):\n",
    "        self.name = name\n",
    "        self.company = company\n",
    "\n",
    "    def show(self):\n",
    "        print(\"Hello my name is \" + self.name+\" and I\" +\n",
    "              \" work in \"+self.company+\".\")\n",
    "\n",
    "\n",
    "obj = GFG(\"John\", \"GeeksForGeeks\")\n",
    "obj.show()"
   ]
  },
  {
   "cell_type": "code",
   "execution_count": 3,
   "id": "62b2ccf4-ef65-4190-9ca8-5163b74ffd25",
   "metadata": {},
   "outputs": [
    {
     "name": "stdout",
     "output_type": "stream",
     "text": [
      "Hello my name is John and I work in GeeksForGeeks.\n"
     ]
    }
   ],
   "source": [
    "class GFG:\n",
    "    def __init__(somename, name, company):\n",
    "        somename.name = name\n",
    "        somename.company = company\n",
    "\n",
    "    def show(somename):\n",
    "        print(\"Hello my name is \" + somename.name +\n",
    "              \" and I work in \"+somename.company+\".\")\n",
    "\n",
    "\n",
    "obj = GFG(\"John\", \"GeeksForGeeks\")\n",
    "obj.show()"
   ]
  },
  {
   "cell_type": "code",
   "execution_count": 4,
   "id": "341df639-fedb-4437-8362-285d10a06f2e",
   "metadata": {},
   "outputs": [
    {
     "name": "stdout",
     "output_type": "stream",
     "text": [
      "Hello, my name is Nikhil\n"
     ]
    }
   ],
   "source": [
    "# Sample class with init method\n",
    "class Person:\n",
    "\n",
    "    # init method or constructor\n",
    "    def __init__(self, name):\n",
    "        self.name = name\n",
    "\n",
    "    # Sample Method\n",
    "    def say_hi(self):\n",
    "        print('Hello, my name is', self.name)\n",
    "\n",
    "\n",
    "p = Person('Nikhil')\n",
    "p.say_hi()"
   ]
  },
  {
   "cell_type": "code",
   "execution_count": 5,
   "id": "249c4f09-e042-46a2-8769-3bc00dfee564",
   "metadata": {},
   "outputs": [
    {
     "name": "stdout",
     "output_type": "stream",
     "text": [
      "My name is John and I work in GeeksForGeeks.\n"
     ]
    }
   ],
   "source": [
    "class GFG:\n",
    "    def __init__(self, name, company):\n",
    "        self.name = name\n",
    "        self.company = company\n",
    "\n",
    "    def __str__(self):\n",
    "        return f\"My name is {self.name} and I work in {self.company}.\"\n",
    "\n",
    "\n",
    "my_obj = GFG(\"John\", \"GeeksForGeeks\")\n",
    "print(my_obj)"
   ]
  },
  {
   "cell_type": "code",
   "execution_count": 6,
   "id": "949e3926-9a22-4c78-9bde-9580e53318f9",
   "metadata": {},
   "outputs": [
    {
     "name": "stdout",
     "output_type": "stream",
     "text": [
      "Rodger details:\n",
      "Rodger is a dog\n",
      "Breed:  Pug\n",
      "Color:  brown\n",
      "\n",
      "Buzo details:\n",
      "Buzo is a dog\n",
      "Breed:  Bulldog\n",
      "Color:  black\n",
      "\n",
      "Accessing class variable using class name\n",
      "dog\n"
     ]
    }
   ],
   "source": [
    "# Python3 program to show that the variables with a value\n",
    "# assigned in the class declaration, are class variables and\n",
    "# variables inside methods and constructors are instance\n",
    "# variables.\n",
    "\n",
    "# Class for Dog\n",
    "\n",
    "\n",
    "class Dog:\n",
    "\n",
    "    # Class Variable\n",
    "    animal = 'dog'\n",
    "\n",
    "    # The init method or constructor\n",
    "    def __init__(self, breed, color):\n",
    "\n",
    "        # Instance Variable\n",
    "        self.breed = breed\n",
    "        self.color = color\n",
    "\n",
    "\n",
    "# Objects of Dog class\n",
    "Rodger = Dog(\"Pug\", \"brown\")\n",
    "Buzo = Dog(\"Bulldog\", \"black\")\n",
    "\n",
    "print('Rodger details:')\n",
    "print('Rodger is a', Rodger.animal)\n",
    "print('Breed: ', Rodger.breed)\n",
    "print('Color: ', Rodger.color)\n",
    "\n",
    "print('\\nBuzo details:')\n",
    "print('Buzo is a', Buzo.animal)\n",
    "print('Breed: ', Buzo.breed)\n",
    "print('Color: ', Buzo.color)\n",
    "\n",
    "# Class variables can be accessed using class\n",
    "# name also\n",
    "print(\"\\nAccessing class variable using class name\")\n",
    "print(Dog.animal)"
   ]
  },
  {
   "cell_type": "code",
   "execution_count": 7,
   "id": "2710b36c-7872-4841-a3b7-683d2fdc005d",
   "metadata": {},
   "outputs": [
    {
     "name": "stdout",
     "output_type": "stream",
     "text": [
      "brown\n"
     ]
    }
   ],
   "source": [
    "# Python3 program to show that we can create\n",
    "# instance variables inside methods\n",
    "\n",
    "# Class for Dog\n",
    "\n",
    "\n",
    "class Dog:\n",
    "\n",
    "    # Class Variable\n",
    "    animal = 'dog'\n",
    "\n",
    "    # The init method or constructor\n",
    "    def __init__(self, breed):\n",
    "\n",
    "        # Instance Variable\n",
    "        self.breed = breed\n",
    "\n",
    "    # Adds an instance variable\n",
    "    def setColor(self, color):\n",
    "        self.color = color\n",
    "\n",
    "    # Retrieves instance variable\n",
    "    def getColor(self):\n",
    "        return self.color\n",
    "\n",
    "\n",
    "# Driver Code\n",
    "Rodger = Dog(\"pug\")\n",
    "Rodger.setColor(\"brown\")\n",
    "print(Rodger.getColor())"
   ]
  },
  {
   "cell_type": "markdown",
   "id": "6ce5fa09-d248-46d7-b440-4697fffb4157",
   "metadata": {},
   "source": [
    "Lambda Expressions"
   ]
  },
  {
   "cell_type": "code",
   "execution_count": 8,
   "id": "a9bf9ace-7615-4f24-89ee-8645f2d781cc",
   "metadata": {},
   "outputs": [
    {
     "name": "stdout",
     "output_type": "stream",
     "text": [
      "Even number\n"
     ]
    }
   ],
   "source": [
    "calc = lambda num: \"Even number\" if num % 2 == 0 else \"Odd number\"\n",
    " \n",
    "print(calc(20))"
   ]
  },
  {
   "cell_type": "code",
   "execution_count": 9,
   "id": "14c6b032-6013-42fe-a262-2c90955f210b",
   "metadata": {},
   "outputs": [
    {
     "name": "stdout",
     "output_type": "stream",
     "text": [
      "<function <lambda> at 0x10ce25620>\n"
     ]
    }
   ],
   "source": [
    "string = 'GeeksforGeeks'\n",
    " \n",
    "# lambda returns a function object\n",
    "print(lambda string: string)"
   ]
  },
  {
   "cell_type": "code",
   "execution_count": null,
   "id": "cfa29e7c-6f83-452f-a755-400513718484",
   "metadata": {},
   "outputs": [],
   "source": [
    "filter_nums = lambda s: ''.join([ch for ch in s if not ch.isdigit()])\n",
    "print(\"filter_nums():\", filter_nums(\"Geeks101\"))\n",
    "\n",
    "do_exclaim = lambda s: s + '!'\n",
    "print(\"do_exclaim():\", do_exclaim(\"I am tired\"))\n",
    "\n",
    "find_sum = lambda n: sum([int(x) for x in str(n)])\n",
    "print(\"find_sum():\", find_sum(101))\n"
   ]
  }
 ],
 "metadata": {
  "kernelspec": {
   "display_name": "Python 3 (ipykernel)",
   "language": "python",
   "name": "python3"
  },
  "language_info": {
   "codemirror_mode": {
    "name": "ipython",
    "version": 3
   },
   "file_extension": ".py",
   "mimetype": "text/x-python",
   "name": "python",
   "nbconvert_exporter": "python",
   "pygments_lexer": "ipython3",
   "version": "3.11.7"
  }
 },
 "nbformat": 4,
 "nbformat_minor": 5
}
