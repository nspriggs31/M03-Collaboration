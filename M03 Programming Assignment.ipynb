{
 "cells": [
  {
   "cell_type": "markdown",
   "id": "2d43551a-848d-435f-b1ee-6b04a0adc4d0",
   "metadata": {},
   "source": [
    "7.4"
   ]
  },
  {
   "cell_type": "code",
   "execution_count": 10,
   "id": "e9491249-e0ab-47fa-b578-1cbc7167135a",
   "metadata": {},
   "outputs": [
    {
     "name": "stdout",
     "output_type": "stream",
     "text": [
      "['mozzarella', 'cinderella', 'salmonella']\n"
     ]
    }
   ],
   "source": [
    "things = [\"mozzarella\", \"cinderella\", \"salmonella\"]\n",
    "print(things)"
   ]
  },
  {
   "cell_type": "markdown",
   "id": "a35391c4-401f-49f5-90a6-a97f32a02907",
   "metadata": {},
   "source": [
    "7.5"
   ]
  },
  {
   "cell_type": "code",
   "execution_count": 6,
   "id": "4f0ae967-bc89-4895-b713-3700e6c9cb01",
   "metadata": {},
   "outputs": [
    {
     "name": "stdout",
     "output_type": "stream",
     "text": [
      "['mozzarella', 'Cinderella', 'salmonella']\n"
     ]
    }
   ],
   "source": [
    "things = [\"mozzarella\", \"Cinderella\", \"salmonella\"]\n",
    "print(things)"
   ]
  },
  {
   "cell_type": "markdown",
   "id": "4386d04c-0d46-4358-bab1-eac1ebb4d533",
   "metadata": {},
   "source": [
    "Capitalizing the first letter of Cinderella did not change the element besides having the first letter capitlaized"
   ]
  },
  {
   "cell_type": "markdown",
   "id": "ea2a97e6-d10b-4a23-ba78-c29712e2949a",
   "metadata": {},
   "source": [
    "7.6"
   ]
  },
  {
   "cell_type": "code",
   "execution_count": 11,
   "id": "2e629968-0383-4fa0-9eb1-cf8e9e547a71",
   "metadata": {},
   "outputs": [
    {
     "name": "stdout",
     "output_type": "stream",
     "text": [
      "['MOZZARELLA', 'Cinderella', 'salmonella']\n"
     ]
    }
   ],
   "source": [
    "things = [\"MOZZARELLA\", \"Cinderella\", \"salmonella\"]\n",
    "print(things)"
   ]
  },
  {
   "cell_type": "markdown",
   "id": "ad055d32-be9c-4ebc-aa3e-f6f689afc15f",
   "metadata": {},
   "source": [
    "7.7"
   ]
  },
  {
   "cell_type": "code",
   "execution_count": 12,
   "id": "1f224e6e-cec3-43f8-9688-d5b41dfa2350",
   "metadata": {},
   "outputs": [
    {
     "name": "stdout",
     "output_type": "stream",
     "text": [
      "['MOZZARELLA', 'Cinderella']\n"
     ]
    }
   ],
   "source": [
    "things = [\"MOZZARELLA\", \"Cinderella\"]\n",
    "print(things)"
   ]
  },
  {
   "cell_type": "markdown",
   "id": "077a9821-06cd-49b2-bef8-d8fc3a53c9a8",
   "metadata": {},
   "source": [
    "9.1"
   ]
  },
  {
   "cell_type": "code",
   "execution_count": 15,
   "id": "8aa5e540-d62d-4872-8217-d6dd4f834600",
   "metadata": {},
   "outputs": [
    {
     "name": "stdout",
     "output_type": "stream",
     "text": [
      "Harry, Ron, Hermione\n"
     ]
    }
   ],
   "source": [
    "def good():\n",
    "    print(\"Harry, Ron, Hermione\")\n",
    "\n",
    "good()"
   ]
  },
  {
   "cell_type": "markdown",
   "id": "ac07f587-052d-4acb-9f91-e2a751393023",
   "metadata": {},
   "source": [
    "9.2"
   ]
  },
  {
   "cell_type": "code",
   "execution_count": 51,
   "id": "4f674dcb-2fe5-45ec-a742-5eef0cde5c11",
   "metadata": {},
   "outputs": [
    {
     "data": {
      "text/plain": [
       "[1, 3, 5, 7, 9]"
      ]
     },
     "execution_count": 51,
     "metadata": {},
     "output_type": "execute_result"
    }
   ],
   "source": [
    "def get_odds():\n",
    "    start, end = 1, 10\n",
    "    odds = []\n",
    "    for num in range(10):\n",
    "        if (num % 2 != 0):\n",
    "            odds.append(num)\n",
    "    return odds\n",
    "get_odds()"
   ]
  },
  {
   "cell_type": "code",
   "execution_count": 49,
   "id": "a54c3c80-4969-4042-8f4e-865d21a55d1d",
   "metadata": {},
   "outputs": [
    {
     "name": "stdout",
     "output_type": "stream",
     "text": [
      "5\n"
     ]
    }
   ],
   "source": [
    "def get_odds():\n",
    "    start, end = 1, 10\n",
    "    odds = []\n",
    "    for num in range(10):\n",
    "        if (num % 2 != 0):\n",
    "            odds.append(num)\n",
    "    return odds\n",
    "\n",
    "count = 0\n",
    "for num in get_odds():\n",
    "    if count == 2:\n",
    "        print(num)\n",
    "        break\n",
    "    count += 1"
   ]
  },
  {
   "cell_type": "code",
   "execution_count": null,
   "id": "a53c506d-10bb-4999-88e1-55176e9cbe97",
   "metadata": {},
   "outputs": [],
   "source": []
  }
 ],
 "metadata": {
  "kernelspec": {
   "display_name": "Python 3 (ipykernel)",
   "language": "python",
   "name": "python3"
  },
  "language_info": {
   "codemirror_mode": {
    "name": "ipython",
    "version": 3
   },
   "file_extension": ".py",
   "mimetype": "text/x-python",
   "name": "python",
   "nbconvert_exporter": "python",
   "pygments_lexer": "ipython3",
   "version": "3.11.7"
  }
 },
 "nbformat": 4,
 "nbformat_minor": 5
}
