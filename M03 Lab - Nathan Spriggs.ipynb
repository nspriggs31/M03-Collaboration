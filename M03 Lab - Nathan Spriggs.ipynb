{
 "cells": [
  {
   "cell_type": "code",
   "execution_count": 1,
   "id": "a6e313ed-e86a-4994-82ef-98a01de740e2",
   "metadata": {},
   "outputs": [
    {
     "name": "stdin",
     "output_type": "stream",
     "text": [
      "Please enter vehicle type:  car\n",
      "Please enter vehicle year:  2002\n",
      "Please enter vehicle make:  Toyota\n",
      "Please enter vehicle model:  Corolla\n",
      "Please enter number of doors:  4\n",
      "Please enter type of roof:  hard roof\n"
     ]
    },
    {
     "name": "stdout",
     "output_type": "stream",
     "text": [
      "\n",
      "Vehicle type:  car\n",
      "Vehicle year:  2002\n",
      "Vehicle make:  Toyota\n",
      "Vehicle model:  Corolla\n",
      "Number of doors:  4\n",
      "Type of roof:  hard roof\n"
     ]
    }
   ],
   "source": [
    "class Vehicle:\n",
    "    def __init__(self, vehicleType):\n",
    "        self.type = vehicleType\n",
    "\n",
    "class Automobile:\n",
    "    def __init__(self, year, make, model, doors, roof):\n",
    "        self.year = year\n",
    "        self.make = make\n",
    "        self.model = model\n",
    "        self.doors = doors\n",
    "        self.roof = roof\n",
    "        \n",
    "vehicleType = input(\"Please enter vehicle type: \")\n",
    "vehicleYear = input(\"Please enter vehicle year: \")\n",
    "vehicleMake = input(\"Please enter vehicle make: \")\n",
    "vehicleModel = input(\"Please enter vehicle model: \")\n",
    "vehicleDoors = input(\"Please enter number of doors: \")\n",
    "vehicleRoof = input(\"Please enter type of roof: \")\n",
    "\n",
    "def printVehicle(vehicleType, vehicleYear, vehicleMake, vehicleModel, vehicleDoors, vehicleRoof):\n",
    "    print(\"\\nVehicle type: \", vehicleType)\n",
    "    print(\"Vehicle year: \", vehicleYear)\n",
    "    print(\"Vehicle make: \", vehicleMake)\n",
    "    print(\"Vehicle model: \", vehicleModel)\n",
    "    print(\"Number of doors: \", vehicleDoors)\n",
    "    print(\"Type of roof: \", vehicleRoof)\n",
    "    \n",
    "printVehicle(vehicleType, vehicleYear, vehicleMake, vehicleModel, vehicleDoors, vehicleRoof)"
   ]
  },
  {
   "cell_type": "code",
   "execution_count": null,
   "id": "7e5d4c1b-f647-44c1-bb9b-96d43d156a11",
   "metadata": {},
   "outputs": [],
   "source": []
  }
 ],
 "metadata": {
  "kernelspec": {
   "display_name": "Python 3 (ipykernel)",
   "language": "python",
   "name": "python3"
  },
  "language_info": {
   "codemirror_mode": {
    "name": "ipython",
    "version": 3
   },
   "file_extension": ".py",
   "mimetype": "text/x-python",
   "name": "python",
   "nbconvert_exporter": "python",
   "pygments_lexer": "ipython3",
   "version": "3.11.7"
  }
 },
 "nbformat": 4,
 "nbformat_minor": 5
}
